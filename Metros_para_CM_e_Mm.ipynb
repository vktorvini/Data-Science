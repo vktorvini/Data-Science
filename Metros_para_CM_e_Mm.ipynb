{
  "nbformat": 4,
  "nbformat_minor": 0,
  "metadata": {
    "colab": {
      "provenance": [],
      "authorship_tag": "ABX9TyMcRTHvnyHCoiXDP3eg1VMW",
      "include_colab_link": true
    },
    "kernelspec": {
      "name": "python3",
      "display_name": "Python 3"
    },
    "language_info": {
      "name": "python"
    }
  },
  "cells": [
    {
      "cell_type": "markdown",
      "metadata": {
        "id": "view-in-github",
        "colab_type": "text"
      },
      "source": [
        "<a href=\"https://colab.research.google.com/github/vktorvini/Data-Science/blob/main/Metros_para_CM_e_Mm.ipynb\" target=\"_parent\"><img src=\"https://colab.research.google.com/assets/colab-badge.svg\" alt=\"Open In Colab\"/></a>"
      ]
    },
    {
      "cell_type": "code",
      "execution_count": null,
      "metadata": {
        "colab": {
          "base_uri": "https://localhost:8080/"
        },
        "id": "0QMDtracC-tn",
        "outputId": "7706458d-f9f8-4dd3-d80b-d07853df68f8"
      },
      "outputs": [
        {
          "output_type": "stream",
          "name": "stdout",
          "text": [
            "Digite Quantos Metros: 1.75\n",
            "A quantia em Cm é: 175.0 \n",
            "A quantia em Mm é: 1750.0 \n"
          ]
        }
      ],
      "source": [
        "metros = int(input(\"Digite Quantos Metros: \"))\n",
        "\n",
        "centimetro = metros*100\n",
        "milimetros = metros*1000\n",
        "\n",
        "print('A quantia em Cm é: {} '.format(centimetro))\n",
        "print('A quantia em Mm é: {} '.format(milimetros))"
      ]
    }
  ]
}