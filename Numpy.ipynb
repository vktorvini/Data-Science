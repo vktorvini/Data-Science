{
  "nbformat": 4,
  "nbformat_minor": 0,
  "metadata": {
    "colab": {
      "provenance": [],
      "toc_visible": true,
      "authorship_tag": "ABX9TyPdquwxI/BNjS+lCUJZZ+wQ",
      "include_colab_link": true
    },
    "kernelspec": {
      "name": "python3",
      "display_name": "Python 3"
    },
    "language_info": {
      "name": "python"
    }
  },
  "cells": [
    {
      "cell_type": "markdown",
      "metadata": {
        "id": "view-in-github",
        "colab_type": "text"
      },
      "source": [
        "<a href=\"https://colab.research.google.com/github/vktorvini/Data-Science/blob/main/Numpy.ipynb\" target=\"_parent\"><img src=\"https://colab.research.google.com/assets/colab-badge.svg\" alt=\"Open In Colab\"/></a>"
      ]
    },
    {
      "cell_type": "markdown",
      "source": [
        "# Introdução a Ciências de Dados\n"
      ],
      "metadata": {
        "id": "8Wyc5noypAYl"
      }
    },
    {
      "cell_type": "markdown",
      "source": [
        "## NumPy\n",
        "\n",
        "NumPy é a abreviatura de numerical Python.\n",
        "É um dos pacotes mais importantes para o processamento numérico em Python.\n",
        "Matemática é o CERNE do DS!!!\n",
        "\n",
        "A maioria dos pacotes de processamento com funcionalidades científicas utiliza objetos array do NumPy.\n",
        "\n",
        "Muito utilizado para array (listas) e também para array multidimensional com operações aritméticas rápidas, sem uso de laços.\n",
        "\n",
        "Você Precisa dominar o NumPy e principalmente as estruturas de dados do Python, arrays multidimensionais principalmente."
      ],
      "metadata": {
        "id": "py_hshyGsUJT"
      }
    },
    {
      "cell_type": "markdown",
      "source": [
        "Importar a biblioteca"
      ],
      "metadata": {
        "id": "bN2B_SlfzS0x"
      }
    },
    {
      "cell_type": "code",
      "source": [
        "import numpy as np"
      ],
      "metadata": {
        "id": "L2ZYS1uepOM0"
      },
      "execution_count": null,
      "outputs": []
    },
    {
      "cell_type": "markdown",
      "source": [
        "#Gerar Dados Aleatórios"
      ],
      "metadata": {
        "id": "jD_GwdykzZp-"
      }
    },
    {
      "cell_type": "markdown",
      "source": [
        "##Gerar um NDArray de 2x3 (duas listas com 3 elementos)"
      ],
      "metadata": {
        "id": "b61UbqrvzdK9"
      }
    },
    {
      "cell_type": "code",
      "source": [
        "dados = np.random.rand(2,3)\n"
      ],
      "metadata": {
        "id": "M14Q67lVzpFF"
      },
      "execution_count": null,
      "outputs": []
    },
    {
      "cell_type": "code",
      "source": [
        "dados"
      ],
      "metadata": {
        "colab": {
          "base_uri": "https://localhost:8080/"
        },
        "id": "F7GcWqal06yi",
        "outputId": "54e72107-2eab-45a8-e90d-d00c32b473dd"
      },
      "execution_count": null,
      "outputs": [
        {
          "output_type": "execute_result",
          "data": {
            "text/plain": [
              "array([[0.26384423, 0.61970313, 0.06288073],\n",
              "       [0.78976251, 0.00268402, 0.657852  ]])"
            ]
          },
          "metadata": {},
          "execution_count": 7
        }
      ]
    },
    {
      "cell_type": "markdown",
      "source": [
        "##Tipos do Array"
      ],
      "metadata": {
        "id": "t0na4uCJTKkb"
      }
    },
    {
      "cell_type": "code",
      "source": [
        "dados.dtype\n"
      ],
      "metadata": {
        "colab": {
          "base_uri": "https://localhost:8080/"
        },
        "id": "vvdO9d3KTHO8",
        "outputId": "b4920097-b98f-40e3-a54c-505a9f8f0616"
      },
      "execution_count": null,
      "outputs": [
        {
          "output_type": "execute_result",
          "data": {
            "text/plain": [
              "dtype('float64')"
            ]
          },
          "metadata": {},
          "execution_count": 5
        }
      ]
    },
    {
      "cell_type": "markdown",
      "source": [
        "##Tamanho e quantidade de dimensão"
      ],
      "metadata": {
        "id": "4g3nNMagTb07"
      }
    },
    {
      "cell_type": "code",
      "source": [
        "dados.shape"
      ],
      "metadata": {
        "colab": {
          "base_uri": "https://localhost:8080/"
        },
        "id": "L6zOJLkuUDI7",
        "outputId": "e64eae48-e160-4a49-f596-bc308e388739"
      },
      "execution_count": null,
      "outputs": [
        {
          "output_type": "execute_result",
          "data": {
            "text/plain": [
              "(2, 3)"
            ]
          },
          "metadata": {},
          "execution_count": 6
        }
      ]
    },
    {
      "cell_type": "code",
      "source": [
        "dados.ndim"
      ],
      "metadata": {
        "colab": {
          "base_uri": "https://localhost:8080/"
        },
        "id": "e2jARaaWUH_4",
        "outputId": "d9cfd406-2db7-4f21-e863-3080d808f911"
      },
      "execution_count": null,
      "outputs": [
        {
          "output_type": "execute_result",
          "data": {
            "text/plain": [
              "2"
            ]
          },
          "metadata": {},
          "execution_count": 7
        }
      ]
    },
    {
      "cell_type": "markdown",
      "source": [
        "# Criar ndarray usando a função array\n",
        "## Ao criar a função array tenta utilizar o melhor tipo de dado"
      ],
      "metadata": {
        "id": "vAITUPwSUT3I"
      }
    },
    {
      "cell_type": "code",
      "source": [
        "lista=[1,2,5,7.8,1.25]"
      ],
      "metadata": {
        "id": "T1eRKPEaUqSQ"
      },
      "execution_count": null,
      "outputs": []
    },
    {
      "cell_type": "code",
      "source": [
        "dados2=np.array(lista)"
      ],
      "metadata": {
        "id": "u1AOSwEPUtgW"
      },
      "execution_count": null,
      "outputs": []
    },
    {
      "cell_type": "code",
      "source": [
        "dados2"
      ],
      "metadata": {
        "colab": {
          "base_uri": "https://localhost:8080/"
        },
        "id": "ESO8Nla4V5LQ",
        "outputId": "775e19a0-9d43-4944-97ac-b2bec40400e4"
      },
      "execution_count": null,
      "outputs": [
        {
          "output_type": "execute_result",
          "data": {
            "text/plain": [
              "array([1.  , 2.  , 5.  , 7.8 , 1.25])"
            ]
          },
          "metadata": {},
          "execution_count": 10
        }
      ]
    },
    {
      "cell_type": "code",
      "source": [
        "lista2=[[1,2,3,4], [4,3,2,1]]"
      ],
      "metadata": {
        "id": "zy0mmE9pUtXm"
      },
      "execution_count": null,
      "outputs": []
    },
    {
      "cell_type": "code",
      "source": [
        "dados3= np.array(lista2)"
      ],
      "metadata": {
        "id": "kzas6krDUtMW"
      },
      "execution_count": null,
      "outputs": []
    },
    {
      "cell_type": "code",
      "source": [
        "dados3"
      ],
      "metadata": {
        "colab": {
          "base_uri": "https://localhost:8080/"
        },
        "id": "o-WDp46kUs-m",
        "outputId": "bbacedda-0c2a-4c9b-d562-bf4a19eb12f7"
      },
      "execution_count": null,
      "outputs": [
        {
          "output_type": "execute_result",
          "data": {
            "text/plain": [
              "array([[1, 2, 3, 4],\n",
              "       [4, 3, 2, 1]])"
            ]
          },
          "metadata": {},
          "execution_count": 13
        }
      ]
    },
    {
      "cell_type": "markdown",
      "source": [
        "# Outras Maneiras de Criar Arrays:"
      ],
      "metadata": {
        "id": "JJ5NIfF0W-rS"
      }
    },
    {
      "cell_type": "code",
      "source": [
        "dadoszero=np.zeros(10)"
      ],
      "metadata": {
        "id": "bK9MFnPpXEb4"
      },
      "execution_count": null,
      "outputs": []
    },
    {
      "cell_type": "code",
      "source": [
        "dadoszero"
      ],
      "metadata": {
        "colab": {
          "base_uri": "https://localhost:8080/"
        },
        "id": "5xkgopsRXJFA",
        "outputId": "52432841-7f50-45b4-92bc-d04f24637a35"
      },
      "execution_count": null,
      "outputs": [
        {
          "output_type": "execute_result",
          "data": {
            "text/plain": [
              "array([0., 0., 0., 0., 0., 0., 0., 0., 0., 0.])"
            ]
          },
          "metadata": {},
          "execution_count": 15
        }
      ]
    },
    {
      "cell_type": "code",
      "source": [
        "dadoszero2 = np.zeros((2,3))"
      ],
      "metadata": {
        "id": "90kRQvZsX_Ne"
      },
      "execution_count": null,
      "outputs": []
    },
    {
      "cell_type": "code",
      "source": [
        "dadoszero2"
      ],
      "metadata": {
        "colab": {
          "base_uri": "https://localhost:8080/"
        },
        "id": "gl7_GyiqYESY",
        "outputId": "6e398f3b-6d49-47e2-9fbb-98dc64a0b9c1"
      },
      "execution_count": null,
      "outputs": [
        {
          "output_type": "execute_result",
          "data": {
            "text/plain": [
              "array([[0., 0., 0.],\n",
              "       [0., 0., 0.]])"
            ]
          },
          "metadata": {},
          "execution_count": 18
        }
      ]
    },
    {
      "cell_type": "code",
      "source": [
        "dadosum= np.ones(5)"
      ],
      "metadata": {
        "id": "_rcZajkBYLUg"
      },
      "execution_count": null,
      "outputs": []
    },
    {
      "cell_type": "code",
      "source": [
        "dadosum"
      ],
      "metadata": {
        "colab": {
          "base_uri": "https://localhost:8080/"
        },
        "id": "OxqoSz8UYScA",
        "outputId": "516aa2ee-a987-4807-c4d5-4ed4c4b12306"
      },
      "execution_count": null,
      "outputs": [
        {
          "output_type": "execute_result",
          "data": {
            "text/plain": [
              "array([1., 1., 1., 1., 1.])"
            ]
          },
          "metadata": {},
          "execution_count": 20
        }
      ]
    },
    {
      "cell_type": "code",
      "source": [
        "dadosseq=np.arange(10)"
      ],
      "metadata": {
        "id": "JGpcPqnbYTa4"
      },
      "execution_count": null,
      "outputs": []
    },
    {
      "cell_type": "code",
      "source": [
        "dadosseq"
      ],
      "metadata": {
        "colab": {
          "base_uri": "https://localhost:8080/"
        },
        "id": "0SiBE6JHYbTb",
        "outputId": "ee72c06d-ce60-4bd2-a49f-391e1d46f4a9"
      },
      "execution_count": null,
      "outputs": [
        {
          "output_type": "execute_result",
          "data": {
            "text/plain": [
              "array([0, 1, 2, 3, 4, 5, 6, 7, 8, 9])"
            ]
          },
          "metadata": {},
          "execution_count": 22
        }
      ]
    },
    {
      "cell_type": "code",
      "source": [
        "dadosseq2 = np.arange(0,20,2)"
      ],
      "metadata": {
        "id": "TRoqbgXAYcgH"
      },
      "execution_count": null,
      "outputs": []
    },
    {
      "cell_type": "code",
      "source": [
        "dadosseq2"
      ],
      "metadata": {
        "colab": {
          "base_uri": "https://localhost:8080/"
        },
        "id": "S4j6cGcOf7lK",
        "outputId": "6e1a3a82-81af-49df-9613-13e27a41f778"
      },
      "execution_count": null,
      "outputs": [
        {
          "output_type": "execute_result",
          "data": {
            "text/plain": [
              "array([ 0,  2,  4,  6,  8, 10, 12, 14, 16, 18])"
            ]
          },
          "metadata": {},
          "execution_count": 39
        }
      ]
    },
    {
      "cell_type": "code",
      "source": [
        "dadosseq.dtype"
      ],
      "metadata": {
        "colab": {
          "base_uri": "https://localhost:8080/"
        },
        "id": "SR5VVpvgf8vq",
        "outputId": "42efbd82-39c1-4b84-e4cc-171e3a7bab1f"
      },
      "execution_count": null,
      "outputs": [
        {
          "output_type": "execute_result",
          "data": {
            "text/plain": [
              "dtype('int64')"
            ]
          },
          "metadata": {},
          "execution_count": 31
        }
      ]
    },
    {
      "cell_type": "code",
      "source": [
        "dadosseqf=dadosseq.astype(np.float64)"
      ],
      "metadata": {
        "id": "l41iR9qchw48"
      },
      "execution_count": null,
      "outputs": []
    },
    {
      "cell_type": "code",
      "source": [
        "dadosseqf"
      ],
      "metadata": {
        "colab": {
          "base_uri": "https://localhost:8080/"
        },
        "id": "ly25FLJah9HM",
        "outputId": "e9e9ae1a-ea22-41cf-e179-224df137ccdb"
      },
      "execution_count": null,
      "outputs": [
        {
          "output_type": "execute_result",
          "data": {
            "text/plain": [
              "array([0., 1., 2., 3., 4., 5., 6., 7., 8., 9.])"
            ]
          },
          "metadata": {},
          "execution_count": 33
        }
      ]
    },
    {
      "cell_type": "code",
      "source": [
        "dadosseqf.dtype"
      ],
      "metadata": {
        "colab": {
          "base_uri": "https://localhost:8080/"
        },
        "id": "-MiJPo9fh-Rd",
        "outputId": "4cc6140b-0c62-43b7-d3c4-0e71b26cfabc"
      },
      "execution_count": null,
      "outputs": [
        {
          "output_type": "execute_result",
          "data": {
            "text/plain": [
              "dtype('float64')"
            ]
          },
          "metadata": {},
          "execution_count": 35
        }
      ]
    },
    {
      "cell_type": "markdown",
      "source": [
        "# Artitmética com Arrays"
      ],
      "metadata": {
        "id": "I6IbfrwLiOGa"
      }
    },
    {
      "cell_type": "code",
      "source": [
        "dados4 =np.array([[1,2,3],[4,5,6]])"
      ],
      "metadata": {
        "id": "T4gJQKCYiCD8"
      },
      "execution_count": null,
      "outputs": []
    },
    {
      "cell_type": "code",
      "source": [
        "dados4"
      ],
      "metadata": {
        "colab": {
          "base_uri": "https://localhost:8080/"
        },
        "id": "DjWm7fGNicCD",
        "outputId": "dcc5f409-8449-41c6-f789-143a1ca7494c"
      },
      "execution_count": null,
      "outputs": [
        {
          "output_type": "execute_result",
          "data": {
            "text/plain": [
              "array([[1, 2, 3],\n",
              "       [4, 5, 6]])"
            ]
          },
          "metadata": {},
          "execution_count": 37
        }
      ]
    },
    {
      "cell_type": "code",
      "source": [
        "dados4*dados4"
      ],
      "metadata": {
        "colab": {
          "base_uri": "https://localhost:8080/"
        },
        "id": "OKfdpJIHidQT",
        "outputId": "23509c44-846b-463d-ed99-ac90a84be2b6"
      },
      "execution_count": null,
      "outputs": [
        {
          "output_type": "execute_result",
          "data": {
            "text/plain": [
              "array([[ 1,  4,  9],\n",
              "       [16, 25, 36]])"
            ]
          },
          "metadata": {},
          "execution_count": 38
        }
      ]
    },
    {
      "cell_type": "code",
      "source": [
        "dados4 - dados4"
      ],
      "metadata": {
        "colab": {
          "base_uri": "https://localhost:8080/"
        },
        "id": "B0YN9b3jihnz",
        "outputId": "7fc36a99-0065-4f82-8999-a8e7f9ed8bb9"
      },
      "execution_count": null,
      "outputs": [
        {
          "output_type": "execute_result",
          "data": {
            "text/plain": [
              "array([[0, 0, 0],\n",
              "       [0, 0, 0]])"
            ]
          },
          "metadata": {},
          "execution_count": 40
        }
      ]
    },
    {
      "cell_type": "code",
      "source": [
        "1 / dados4"
      ],
      "metadata": {
        "colab": {
          "base_uri": "https://localhost:8080/"
        },
        "id": "-qcSQMszjuDf",
        "outputId": "8031a4df-70cf-4065-b533-89159fbf90f2"
      },
      "execution_count": null,
      "outputs": [
        {
          "output_type": "execute_result",
          "data": {
            "text/plain": [
              "array([[1.        , 0.5       , 0.33333333],\n",
              "       [0.25      , 0.2       , 0.16666667]])"
            ]
          },
          "metadata": {},
          "execution_count": 42
        }
      ]
    },
    {
      "cell_type": "code",
      "source": [
        "dados5 = dados4+dados4"
      ],
      "metadata": {
        "id": "qc-HR4CZjwX3"
      },
      "execution_count": null,
      "outputs": []
    },
    {
      "cell_type": "code",
      "source": [
        "dados5"
      ],
      "metadata": {
        "colab": {
          "base_uri": "https://localhost:8080/"
        },
        "id": "cMOfBXR7j34_",
        "outputId": "9461527a-7f63-46bd-b41d-faba7f149b67"
      },
      "execution_count": null,
      "outputs": [
        {
          "output_type": "execute_result",
          "data": {
            "text/plain": [
              "array([[ 2,  4,  6],\n",
              "       [ 8, 10, 12]])"
            ]
          },
          "metadata": {},
          "execution_count": 44
        }
      ]
    },
    {
      "cell_type": "code",
      "source": [
        "dados5 > dados4"
      ],
      "metadata": {
        "colab": {
          "base_uri": "https://localhost:8080/"
        },
        "id": "jbktePDuj4lf",
        "outputId": "0cb4f10b-52cb-4515-9296-79a9c348d464"
      },
      "execution_count": null,
      "outputs": [
        {
          "output_type": "execute_result",
          "data": {
            "text/plain": [
              "array([[ True,  True,  True],\n",
              "       [ True,  True,  True]])"
            ]
          },
          "metadata": {},
          "execution_count": 45
        }
      ]
    },
    {
      "cell_type": "markdown",
      "source": [
        "##Indexação"
      ],
      "metadata": {
        "id": "H69A292WkFuV"
      }
    },
    {
      "cell_type": "code",
      "source": [
        "dadosseq"
      ],
      "metadata": {
        "colab": {
          "base_uri": "https://localhost:8080/"
        },
        "id": "keTaIZCekIN-",
        "outputId": "9197c357-48ad-4ee0-ca7e-80ff9a6f71e2"
      },
      "execution_count": null,
      "outputs": [
        {
          "output_type": "execute_result",
          "data": {
            "text/plain": [
              "array([0, 1, 2, 3, 4, 5, 6, 7, 8, 9])"
            ]
          },
          "metadata": {},
          "execution_count": 47
        }
      ]
    },
    {
      "cell_type": "code",
      "source": [
        "dadosseq[5]"
      ],
      "metadata": {
        "colab": {
          "base_uri": "https://localhost:8080/"
        },
        "id": "2uwH-M_8kIYN",
        "outputId": "9ccd9ee0-ab2f-43ee-af05-a3640fb5f262"
      },
      "execution_count": null,
      "outputs": [
        {
          "output_type": "execute_result",
          "data": {
            "text/plain": [
              "5"
            ]
          },
          "metadata": {},
          "execution_count": 48
        }
      ]
    },
    {
      "cell_type": "markdown",
      "source": [
        "Diferente de uma lista python, um recorte(fatia) de um ndarray sofrerá um broadcast -\n",
        "É como se fosse uma view de bano de dados.\n",
        "Com conjuntos imensos de dados isso é uma grande vantagem em relação a performance"
      ],
      "metadata": {
        "id": "oCzcDaS2kmrj"
      }
    },
    {
      "cell_type": "code",
      "source": [
        "dadosseq[3:6]"
      ],
      "metadata": {
        "colab": {
          "base_uri": "https://localhost:8080/"
        },
        "id": "2QGhtHj9koHT",
        "outputId": "91258232-d9c4-44b3-b586-3b3ee14150f4"
      },
      "execution_count": null,
      "outputs": [
        {
          "output_type": "execute_result",
          "data": {
            "text/plain": [
              "array([3, 4, 5])"
            ]
          },
          "metadata": {},
          "execution_count": 49
        }
      ]
    },
    {
      "cell_type": "code",
      "source": [
        "dadosseq[3:6]=20"
      ],
      "metadata": {
        "id": "o90ZLYDpkzjL"
      },
      "execution_count": null,
      "outputs": []
    },
    {
      "cell_type": "code",
      "source": [
        "dadosseq"
      ],
      "metadata": {
        "colab": {
          "base_uri": "https://localhost:8080/"
        },
        "id": "9OvDUeE2kzs7",
        "outputId": "ac241bbf-a995-445c-9005-4d207517ce10"
      },
      "execution_count": null,
      "outputs": [
        {
          "output_type": "execute_result",
          "data": {
            "text/plain": [
              "array([ 0,  1,  2, 20, 20, 20,  6,  7,  8,  9])"
            ]
          },
          "metadata": {},
          "execution_count": 51
        }
      ]
    },
    {
      "cell_type": "code",
      "source": [
        "fatiadados= dadosseq[2:4]"
      ],
      "metadata": {
        "id": "hQdz7tEykz6D"
      },
      "execution_count": null,
      "outputs": []
    },
    {
      "cell_type": "code",
      "source": [
        "fatiadados"
      ],
      "metadata": {
        "colab": {
          "base_uri": "https://localhost:8080/"
        },
        "id": "6W14diMZk0Dj",
        "outputId": "6642594a-592e-4114-d53c-e2a850f19f1f"
      },
      "execution_count": null,
      "outputs": [
        {
          "output_type": "execute_result",
          "data": {
            "text/plain": [
              "array([ 2, 20])"
            ]
          },
          "metadata": {},
          "execution_count": 53
        }
      ]
    },
    {
      "cell_type": "code",
      "source": [
        "fatiadados[1]=2000"
      ],
      "metadata": {
        "id": "WjhtOZTZk0PT"
      },
      "execution_count": null,
      "outputs": []
    },
    {
      "cell_type": "code",
      "source": [
        "fatiadados"
      ],
      "metadata": {
        "colab": {
          "base_uri": "https://localhost:8080/"
        },
        "id": "bLs4u4w9k0rD",
        "outputId": "860fec33-3267-48af-daf9-7eee7f2ee2ce"
      },
      "execution_count": null,
      "outputs": [
        {
          "output_type": "execute_result",
          "data": {
            "text/plain": [
              "array([   2, 2000])"
            ]
          },
          "metadata": {},
          "execution_count": 55
        }
      ]
    },
    {
      "cell_type": "code",
      "source": [
        "dadosseq"
      ],
      "metadata": {
        "colab": {
          "base_uri": "https://localhost:8080/"
        },
        "id": "uQM6W4J_lT98",
        "outputId": "c9044d7a-f3cb-4dad-934f-456eaef9f46b"
      },
      "execution_count": null,
      "outputs": [
        {
          "output_type": "execute_result",
          "data": {
            "text/plain": [
              "array([   0,    1,    2, 2000,   20,   20,    6,    7,    8,    9])"
            ]
          },
          "metadata": {},
          "execution_count": 56
        }
      ]
    },
    {
      "cell_type": "code",
      "source": [
        "fatiadados[:]=333"
      ],
      "metadata": {
        "id": "21cyJEkJlWHL"
      },
      "execution_count": null,
      "outputs": []
    },
    {
      "cell_type": "code",
      "source": [
        "dadosseq"
      ],
      "metadata": {
        "colab": {
          "base_uri": "https://localhost:8080/"
        },
        "id": "tIiJC6Puleij",
        "outputId": "36550f20-bdb1-4587-fc97-7b33e021a252"
      },
      "execution_count": null,
      "outputs": [
        {
          "output_type": "execute_result",
          "data": {
            "text/plain": [
              "array([  0,   1, 333, 333,  20,  20,   6,   7,   8,   9])"
            ]
          },
          "metadata": {},
          "execution_count": 58
        }
      ]
    },
    {
      "cell_type": "markdown",
      "source": [
        "##Copiar Dados"
      ],
      "metadata": {
        "id": "ZHYZN_PYkqI0"
      }
    },
    {
      "cell_type": "code",
      "source": [
        "fatia2=dadosseq[2:4].copy()"
      ],
      "metadata": {
        "id": "48uExdweluqx"
      },
      "execution_count": null,
      "outputs": []
    },
    {
      "cell_type": "code",
      "source": [
        "fatia2"
      ],
      "metadata": {
        "colab": {
          "base_uri": "https://localhost:8080/"
        },
        "id": "t6PTJun5lu25",
        "outputId": "31a07f08-d112-49cd-b291-d0c1337448b5"
      },
      "execution_count": null,
      "outputs": [
        {
          "output_type": "execute_result",
          "data": {
            "text/plain": [
              "array([333, 333])"
            ]
          },
          "metadata": {},
          "execution_count": 61
        }
      ]
    },
    {
      "cell_type": "code",
      "source": [
        "fatia2[:]=2"
      ],
      "metadata": {
        "id": "z_xFLJFGlu_5"
      },
      "execution_count": null,
      "outputs": []
    },
    {
      "cell_type": "code",
      "source": [
        "fatia2"
      ],
      "metadata": {
        "colab": {
          "base_uri": "https://localhost:8080/"
        },
        "id": "kD_p20a8lvI5",
        "outputId": "9b0fd03b-32da-43d6-b0c4-23b63bbc547e"
      },
      "execution_count": null,
      "outputs": [
        {
          "output_type": "execute_result",
          "data": {
            "text/plain": [
              "array([2, 2])"
            ]
          },
          "metadata": {},
          "execution_count": 63
        }
      ]
    },
    {
      "cell_type": "code",
      "source": [
        "dadosseq"
      ],
      "metadata": {
        "colab": {
          "base_uri": "https://localhost:8080/"
        },
        "id": "0kx9lxX7lvR5",
        "outputId": "e2024efe-c2c3-45ff-f2ff-020b17e17f65"
      },
      "execution_count": null,
      "outputs": [
        {
          "output_type": "execute_result",
          "data": {
            "text/plain": [
              "array([  0,   1, 333, 333,  20,  20,   6,   7,   8,   9])"
            ]
          },
          "metadata": {},
          "execution_count": 64
        }
      ]
    },
    {
      "cell_type": "markdown",
      "source": [
        "Array com mais de uma dimensão"
      ],
      "metadata": {
        "id": "boDkj8nGmEZY"
      }
    },
    {
      "cell_type": "code",
      "source": [
        "dados6= np.array([[1,2,3],[4,5,6],[7,8,9]])"
      ],
      "metadata": {
        "id": "6JysU0D2mKig"
      },
      "execution_count": null,
      "outputs": []
    },
    {
      "cell_type": "code",
      "source": [
        "dados6"
      ],
      "metadata": {
        "colab": {
          "base_uri": "https://localhost:8080/"
        },
        "id": "mo6rpZMVmUB4",
        "outputId": "95b2d000-47b7-401e-e2c7-f970e343746b"
      },
      "execution_count": null,
      "outputs": [
        {
          "output_type": "execute_result",
          "data": {
            "text/plain": [
              "array([[1, 2, 3],\n",
              "       [4, 5, 6],\n",
              "       [7, 8, 9]])"
            ]
          },
          "metadata": {},
          "execution_count": 66
        }
      ]
    },
    {
      "cell_type": "code",
      "source": [
        "dados6[1,2]"
      ],
      "metadata": {
        "colab": {
          "base_uri": "https://localhost:8080/"
        },
        "id": "YxfbnrNrmUvH",
        "outputId": "ec3353ac-cbfe-4d53-9c50-c9de27a02cbb"
      },
      "execution_count": null,
      "outputs": [
        {
          "output_type": "execute_result",
          "data": {
            "text/plain": [
              "6"
            ]
          },
          "metadata": {},
          "execution_count": 67
        }
      ]
    },
    {
      "cell_type": "markdown",
      "source": [
        "Mascaras"
      ],
      "metadata": {
        "id": "V-Rxv7wbmgUW"
      }
    },
    {
      "cell_type": "code",
      "source": [
        "mascara=(dadosseq<100)"
      ],
      "metadata": {
        "id": "0FNbgnWXmiGn"
      },
      "execution_count": null,
      "outputs": []
    },
    {
      "cell_type": "code",
      "source": [
        "mascara"
      ],
      "metadata": {
        "colab": {
          "base_uri": "https://localhost:8080/"
        },
        "id": "j2TiLcPVmnq3",
        "outputId": "b264dc5c-9b3c-44de-f9c6-7e9a8dc02470"
      },
      "execution_count": null,
      "outputs": [
        {
          "output_type": "execute_result",
          "data": {
            "text/plain": [
              "array([ True,  True, False, False,  True,  True,  True,  True,  True,\n",
              "        True])"
            ]
          },
          "metadata": {},
          "execution_count": 69
        }
      ]
    },
    {
      "cell_type": "code",
      "source": [
        "dadosseq[dadosseq<20]=8888"
      ],
      "metadata": {
        "id": "Y6nETJsRmoXf"
      },
      "execution_count": null,
      "outputs": []
    },
    {
      "cell_type": "code",
      "source": [
        "dadosseq"
      ],
      "metadata": {
        "colab": {
          "base_uri": "https://localhost:8080/"
        },
        "id": "crClimSKm43v",
        "outputId": "508c628e-f23f-4657-e95e-779f166f1b3d"
      },
      "execution_count": null,
      "outputs": [
        {
          "output_type": "execute_result",
          "data": {
            "text/plain": [
              "array([8888, 8888,  333,  333,   20,   20, 8888, 8888, 8888, 8888])"
            ]
          },
          "metadata": {},
          "execution_count": 71
        }
      ]
    },
    {
      "cell_type": "markdown",
      "source": [
        "#Transposição\n",
        "Inverte a matriz de lado:"
      ],
      "metadata": {
        "id": "EG35zXMNm-H2"
      }
    },
    {
      "cell_type": "code",
      "source": [
        "dados7=np.arange(15).reshape((3,5))"
      ],
      "metadata": {
        "id": "rp_GtY3ynAq2"
      },
      "execution_count": null,
      "outputs": []
    },
    {
      "cell_type": "code",
      "source": [
        "dados7"
      ],
      "metadata": {
        "colab": {
          "base_uri": "https://localhost:8080/"
        },
        "id": "ZS08bNU7nL3G",
        "outputId": "b7c3fd4f-f9f6-4963-c6d4-fa37b41a4d10"
      },
      "execution_count": null,
      "outputs": [
        {
          "output_type": "execute_result",
          "data": {
            "text/plain": [
              "array([[ 0,  1,  2,  3,  4],\n",
              "       [ 5,  6,  7,  8,  9],\n",
              "       [10, 11, 12, 13, 14]])"
            ]
          },
          "metadata": {},
          "execution_count": 73
        }
      ]
    },
    {
      "cell_type": "code",
      "source": [
        "dados7.T"
      ],
      "metadata": {
        "colab": {
          "base_uri": "https://localhost:8080/"
        },
        "id": "FzNWeesknMoe",
        "outputId": "c484ada9-810b-41e8-cc4c-08cbf2714c59"
      },
      "execution_count": null,
      "outputs": [
        {
          "output_type": "execute_result",
          "data": {
            "text/plain": [
              "array([[ 0,  5, 10],\n",
              "       [ 1,  6, 11],\n",
              "       [ 2,  7, 12],\n",
              "       [ 3,  8, 13],\n",
              "       [ 4,  9, 14]])"
            ]
          },
          "metadata": {},
          "execution_count": 75
        }
      ]
    },
    {
      "cell_type": "markdown",
      "source": [
        "Multiplicação de Matrizes com Dots"
      ],
      "metadata": {
        "id": "ugCkPxjXnWuO"
      }
    },
    {
      "cell_type": "code",
      "source": [
        "np.dot(dados7.T,dados7)"
      ],
      "metadata": {
        "colab": {
          "base_uri": "https://localhost:8080/"
        },
        "id": "bMax7fHgnihk",
        "outputId": "13c072ea-7053-480b-f2a9-3c94d245e9e9"
      },
      "execution_count": null,
      "outputs": [
        {
          "output_type": "execute_result",
          "data": {
            "text/plain": [
              "array([[125, 140, 155, 170, 185],\n",
              "       [140, 158, 176, 194, 212],\n",
              "       [155, 176, 197, 218, 239],\n",
              "       [170, 194, 218, 242, 266],\n",
              "       [185, 212, 239, 266, 293]])"
            ]
          },
          "metadata": {},
          "execution_count": 76
        }
      ]
    },
    {
      "cell_type": "code",
      "source": [],
      "metadata": {
        "id": "OYmCZbiknpMs"
      },
      "execution_count": null,
      "outputs": []
    }
  ]
}