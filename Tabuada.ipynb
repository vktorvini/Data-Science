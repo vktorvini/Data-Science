{
  "nbformat": 4,
  "nbformat_minor": 0,
  "metadata": {
    "colab": {
      "provenance": [],
      "authorship_tag": "ABX9TyPa4+sQxzgLXVNCCijxpeTz",
      "include_colab_link": true
    },
    "kernelspec": {
      "name": "python3",
      "display_name": "Python 3"
    },
    "language_info": {
      "name": "python"
    }
  },
  "cells": [
    {
      "cell_type": "markdown",
      "metadata": {
        "id": "view-in-github",
        "colab_type": "text"
      },
      "source": [
        "<a href=\"https://colab.research.google.com/github/vktorvini/Data-Science/blob/main/Tabuada.ipynb\" target=\"_parent\"><img src=\"https://colab.research.google.com/assets/colab-badge.svg\" alt=\"Open In Colab\"/></a>"
      ]
    },
    {
      "cell_type": "code",
      "execution_count": null,
      "metadata": {
        "colab": {
          "base_uri": "https://localhost:8080/"
        },
        "id": "Um69sErxFB6_",
        "outputId": "746e7d61-d421-4e21-ccde-e9db9a99c9bc"
      },
      "outputs": [
        {
          "output_type": "stream",
          "name": "stdout",
          "text": [
            "Tabuada\n",
            "Digite um numero: 56\n",
            "A tabuada do 56 é : \n",
            "56 vezes 1 = 56\n",
            "56 vezes 2 = 112\n",
            "56 vezes 3 = 168\n",
            "56 vezes 4 = 224\n",
            "56 vezes 5 = 280\n",
            "56 vezes 6 = 336\n",
            "56 vezes 7 = 392\n",
            "56 vezes 8 = 448\n",
            "56 vezes 9 = 504\n",
            "56 vezes 10 = 560\n"
          ]
        }
      ],
      "source": [
        "print(\"Tabuada\")\n",
        "\n",
        "num = int(input(\"Digite um numero: \"))\n",
        "\n",
        "x1 = num*1\n",
        "x2 = num*2\n",
        "x3 = num*3\n",
        "x4 = num*4\n",
        "x5 = num*5\n",
        "x6 = num*6\n",
        "x7 = num*7\n",
        "x8 = num*8\n",
        "x9 = num*9\n",
        "x10 = num*10\n",
        "\n",
        "print(\"A tabuada do {} é: \".format(num))\n",
        "print(\"{} vezes 1 = {}\".format(num,x1))\n",
        "print(\"{} vezes 2 = {}\".format(num,x2))\n",
        "print(\"{} vezes 3 = {}\".format(num,x3))\n",
        "print(\"{} vezes 4 = {}\".format(num,x4))\n",
        "print(\"{} vezes 5 = {}\".format(num,x5))\n",
        "print(\"{} vezes 6 = {}\".format(num,x6))\n",
        "print(\"{} vezes 7 = {}\".format(num,x7))\n",
        "print(\"{} vezes 8 = {}\".format(num,x8))\n",
        "print(\"{} vezes 9 = {}\".format(num,x9))\n",
        "print(\"{} vezes 10 = {}\".format(num,x10))"
      ]
    }
  ]
}